{
 "cells": [
  {
   "cell_type": "markdown",
   "id": "86312e22-ab37-4edb-8dd0-f357d47e188b",
   "metadata": {},
   "source": [
    "## Consider the below code to answer further questions:\n",
    "## import numpy as np\n",
    "## list_ = [ ‘1’ , ’2’ , ‘3’ , ‘4’ , ‘5’ ]\n",
    "## array_list = np.array(object = list_)"
   ]
  },
  {
   "cell_type": "markdown",
   "id": "c9d4a02e-7f6e-4d75-a3f7-433d71c833f8",
   "metadata": {},
   "source": [
    "## Q1. Is there any difference in the data type of variables list_ and array_list? If there is then write a code to print the data types of both the variables."
   ]
  },
  {
   "cell_type": "markdown",
   "id": "036b29ea-48fe-408e-b8b0-e21eebd9620f",
   "metadata": {},
   "source": [
    "### In the given code, there is a difference in the data types of variables list_ and array_list.\n",
    "\n",
    "The variable list_ is a Python list, which can hold elements of different data types.\n",
    "\n",
    "The variable array_list is a NumPy array, which is a specialized data structure that holds elements of the same data type. In this case, since the elements in list_ are strings, array_list will also contain elements of the data type string.\n",
    "\n",
    "To print the data types of both variables, you can use the type() function in Python:"
   ]
  },
  {
   "cell_type": "code",
   "execution_count": 6,
   "id": "c890f8cb-90e6-40e6-a2b2-2f7e3ce134f4",
   "metadata": {},
   "outputs": [
    {
     "name": "stdout",
     "output_type": "stream",
     "text": [
      "Data type of list_: <class 'list'>\n",
      "Data type of array_list: <class 'numpy.ndarray'>\n"
     ]
    }
   ],
   "source": [
    "import numpy as np\n",
    "\n",
    "list_ = ['1', '2', '3', '4', '5']\n",
    "array_list = np.array(object=list_)\n",
    "\n",
    "print(\"Data type of list_:\", type(list_))\n",
    "print(\"Data type of array_list:\", type(array_list))"
   ]
  },
  {
   "cell_type": "markdown",
   "id": "c5ce4def-390e-4f7e-9e46-3f9218d8ed90",
   "metadata": {},
   "source": [
    "## Q2. Write a code to print the data type of each and every element of both the variables list_ and arra_list."
   ]
  },
  {
   "cell_type": "code",
   "execution_count": 7,
   "id": "ff350b10-dd11-4f40-9e71-6a39efe6726d",
   "metadata": {},
   "outputs": [
    {
     "name": "stdout",
     "output_type": "stream",
     "text": [
      "Data type of each element in 'list_':\n",
      "<class 'str'>\n",
      "<class 'str'>\n",
      "<class 'str'>\n",
      "<class 'str'>\n",
      "<class 'str'>\n",
      "\n",
      "Data type of each element in 'array_list':\n",
      "<class 'numpy.str_'>\n",
      "<class 'numpy.str_'>\n",
      "<class 'numpy.str_'>\n",
      "<class 'numpy.str_'>\n",
      "<class 'numpy.str_'>\n"
     ]
    }
   ],
   "source": [
    "import numpy as np\n",
    "\n",
    "list_ = ['1', '2', '3', '4', '5']\n",
    "array_list = np.array(object=list_)\n",
    "\n",
    "# Data type of each element in the 'list_'\n",
    "print(\"Data type of each element in 'list_':\")\n",
    "for element in list_:\n",
    "    print(type(element))\n",
    "\n",
    "# Data type of each element in the 'array_list'\n",
    "print(\"\\nData type of each element in 'array_list':\")\n",
    "for element in array_list:\n",
    "    print(type(element))"
   ]
  },
  {
   "cell_type": "markdown",
   "id": "86708811-1bff-450a-b8ea-445e44a8d64f",
   "metadata": {},
   "source": [
    "## Q3. Considering the following changes in the variable, array_list:\n",
    "array_list = np.array(object = list_, dtype = int)\n",
    "\n",
    "Will there be any difference in the data type of the elements present in both the variables, list_ and\n",
    "arra_list? If so then print the data types of each and every element present in both the variables, list_\n",
    "and arra_list.\n",
    "\n",
    "Consider the below code to answer further questions:\n",
    "\n",
    "import numpy as np\n",
    "num_list = [ [ 1 , 2 , 3 ] , [ 4 , 5 , 6 ] ]\n",
    "num_array = np.array(object = num_list)"
   ]
  },
  {
   "cell_type": "markdown",
   "id": "49a54102-b27e-4904-8b64-7bdcd8cc7780",
   "metadata": {},
   "source": [
    "### Yes, there will be a difference in the data type of the elements present in list_ and array_list after making the following change:"
   ]
  },
  {
   "cell_type": "code",
   "execution_count": 8,
   "id": "8bd5edfd-e2b6-4176-8747-31ed940aada2",
   "metadata": {},
   "outputs": [
    {
     "name": "stdout",
     "output_type": "stream",
     "text": [
      "Data type of each element in 'list_':\n",
      "<class 'str'>\n",
      "<class 'str'>\n",
      "<class 'str'>\n",
      "<class 'str'>\n",
      "<class 'str'>\n",
      "\n",
      "Data type of each element in 'array_list':\n",
      "<class 'numpy.int64'>\n",
      "<class 'numpy.int64'>\n",
      "<class 'numpy.int64'>\n",
      "<class 'numpy.int64'>\n",
      "<class 'numpy.int64'>\n"
     ]
    }
   ],
   "source": [
    "import numpy as np\n",
    "\n",
    "list_ = ['1', '2', '3', '4', '5']\n",
    "array_list = np.array(object=list_, dtype=int)\n",
    "\n",
    "# Data type of each element in the 'list_'\n",
    "print(\"Data type of each element in 'list_':\")\n",
    "for element in list_:\n",
    "    print(type(element))\n",
    "\n",
    "# Data type of each element in the 'array_list'\n",
    "print(\"\\nData type of each element in 'array_list':\")\n",
    "for element in array_list:\n",
    "    print(type(element))"
   ]
  },
  {
   "cell_type": "markdown",
   "id": "665f8673-fea4-48d2-bd24-05cf7c7c0c8b",
   "metadata": {},
   "source": [
    "## Q4. Write a code to find the following characteristics of variable, num_array:\n",
    "(i) shape\n",
    "(ii) size"
   ]
  },
  {
   "cell_type": "code",
   "execution_count": 9,
   "id": "b63f2664-c7f2-4127-9942-cde7ce199167",
   "metadata": {},
   "outputs": [
    {
     "name": "stdout",
     "output_type": "stream",
     "text": [
      "Shape of 'num_array': (2, 3)\n",
      "Size of 'num_array': 6\n"
     ]
    }
   ],
   "source": [
    "import numpy as np\n",
    "\n",
    "num_list = [[1, 2, 3], [4, 5, 6]]\n",
    "num_array = np.array(object=num_list)\n",
    "\n",
    "# Shape of the 'num_array'\n",
    "print(\"Shape of 'num_array':\", num_array.shape)\n",
    "\n",
    "# Size of the 'num_array'\n",
    "print(\"Size of 'num_array':\", num_array.size)"
   ]
  },
  {
   "cell_type": "markdown",
   "id": "0b12f7e2-b7ad-43b2-aa1a-d431323fdada",
   "metadata": {},
   "source": [
    "## Q5. Write a code to create numpy array of 3*3 matrix containing zeros only, using a numpy array creation function.\n",
    "[Hint: The size of the array will be 9 and the shape will be (3,3).]"
   ]
  },
  {
   "cell_type": "code",
   "execution_count": 10,
   "id": "6f1e92b4-7a9f-4015-adb6-e19a349beac9",
   "metadata": {},
   "outputs": [
    {
     "name": "stdout",
     "output_type": "stream",
     "text": [
      "[[0. 0. 0.]\n",
      " [0. 0. 0.]\n",
      " [0. 0. 0.]]\n"
     ]
    }
   ],
   "source": [
    "import numpy as np\n",
    "\n",
    "# Create a 3x3 matrix containing zeros\n",
    "zero_matrix = np.zeros((3, 3))\n",
    "\n",
    "print(zero_matrix)"
   ]
  },
  {
   "cell_type": "markdown",
   "id": "be56c533-eb59-4c15-8b2a-72026a76c501",
   "metadata": {},
   "source": [
    "## Q6. Create an identity matrix of shape (5,5) using numpy functions?\n",
    "\n",
    "[Hint: An identity matrix is a matrix containing 1 diagonally and other elements will be 0.]"
   ]
  },
  {
   "cell_type": "code",
   "execution_count": 11,
   "id": "dfaf1432-5f04-4ae4-a9bc-3e23c2f446b5",
   "metadata": {},
   "outputs": [
    {
     "name": "stdout",
     "output_type": "stream",
     "text": [
      "[[1. 0. 0. 0. 0.]\n",
      " [0. 1. 0. 0. 0.]\n",
      " [0. 0. 1. 0. 0.]\n",
      " [0. 0. 0. 1. 0.]\n",
      " [0. 0. 0. 0. 1.]]\n"
     ]
    }
   ],
   "source": [
    "import numpy as np\n",
    "\n",
    "# Create a 5x5 identity matrix\n",
    "identity_matrix = np.eye(5)\n",
    "\n",
    "print(identity_matrix)"
   ]
  }
 ],
 "metadata": {
  "kernelspec": {
   "display_name": "Python 3 (ipykernel)",
   "language": "python",
   "name": "python3"
  },
  "language_info": {
   "codemirror_mode": {
    "name": "ipython",
    "version": 3
   },
   "file_extension": ".py",
   "mimetype": "text/x-python",
   "name": "python",
   "nbconvert_exporter": "python",
   "pygments_lexer": "ipython3",
   "version": "3.10.8"
  }
 },
 "nbformat": 4,
 "nbformat_minor": 5
}
